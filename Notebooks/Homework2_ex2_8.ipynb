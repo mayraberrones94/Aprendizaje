{
  "nbformat": 4,
  "nbformat_minor": 0,
  "metadata": {
    "colab": {
      "name": "Homework2_ex2.8.ipynb",
      "provenance": []
    },
    "kernelspec": {
      "name": "python3",
      "display_name": "Python 3"
    },
    "language_info": {
      "name": "python"
    }
  },
  "cells": [
    {
      "cell_type": "code",
      "execution_count": 1,
      "metadata": {
        "id": "AtjObdDz85xk"
      },
      "outputs": [],
      "source": [
        "import pandas as pd\n",
        "import numpy as np\n",
        "\n",
        "%matplotlib inline\n",
        "import matplotlib.pyplot as plt\n",
        "\n",
        "def filtered_data(path):\n",
        "    data_all = np.loadtxt(path)\n",
        "    mask = np.in1d(data_all[:, 0], (2, 3))\n",
        "    data_x = data_all[mask, 1: ]\n",
        "    data_y = data_all[mask, 0]\n",
        "    return data_x, data_y\n",
        "\n",
        "train_x, train_y = filtered_data('/content/drive/MyDrive/Datasets/zip.train')\n",
        "test_x, test_y = filtered_data('/content/drive/MyDrive/Datasets/zip.test')\n",
        "\n",
        "k_points = [1, 3, 5, 7, 15]"
      ]
    },
    {
      "cell_type": "code",
      "source": [
        "from pandas import read_csv\n",
        "\n",
        "from sklearn.metrics import mean_absolute_error\n",
        "from sklearn.metrics import mean_squared_error\n",
        "from sklearn.linear_model import LinearRegression\n",
        "from sklearn.metrics import accuracy_score\n",
        "from sklearn.metrics import top_k_accuracy_score\n",
        "from sklearn.metrics import median_absolute_error\n",
        "from sklearn.metrics import r2_score\n",
        "model = LinearRegression()\n",
        "model.fit(train_x, train_y)\n",
        "# make predictions\n",
        "yhat = model.predict(test_x)\n",
        "# evaluate predictions\n",
        "mae = mean_absolute_error(test_y, yhat)\n",
        "print('MAE: %.3f' % mae)\n",
        "print('Median absolute error: ', median_absolute_error(test_y, yhat))\n",
        "print('Intercept:', model.intercept_)\n",
        "\n",
        "print('Top accuracy score: ', top_k_accuracy_score(test_y, yhat, k = 1))\n",
        "\n",
        "# The coefficients\n",
        "print(\"Coefficients: \\n\", model.coef_)\n",
        "# The mean squared error\n",
        "print(\"MSE: %.2f\" % mean_squared_error(test_y, yhat))\n",
        "# The coefficient of determination: 1 is perfect prediction\n",
        "print(\"Coefficient of determination: %.2f\" % r2_score(test_y, yhat))\n"
      ],
      "metadata": {
        "colab": {
          "base_uri": "https://localhost:8080/"
        },
        "id": "aUGQCTu89U34",
        "outputId": "3c4f5bde-7136-4c5a-96c2-335573e84df6"
      },
      "execution_count": 4,
      "outputs": [
        {
          "output_type": "stream",
          "name": "stdout",
          "text": [
            "MAE: 0.191\n",
            "Median absolute error:  0.1381695172438846\n",
            "Intercept: 23.585842485148817\n",
            "Top accuracy score:  0.45604395604395603\n",
            "Coefficients: \n",
            " [-2.88861437e-01  5.93022626e-02  2.40565969e-02 -2.64356805e-02\n",
            "  1.16775415e-02  3.74923660e-03 -3.79483192e-03 -3.58438231e-03\n",
            " -1.36610358e-02  2.42559422e-02 -5.71717440e-02  7.69621164e-02\n",
            " -9.82394663e-03  1.73586415e-01 -2.10862950e-01  2.12482973e+01\n",
            " -5.65358597e-02 -5.52421959e-02  9.90591256e-03 -3.08468051e-03\n",
            "  3.68977893e-03 -1.20769789e-02  5.07032401e-02 -3.08258960e-02\n",
            " -1.08705270e-02 -1.53272874e-04  4.24856619e-02  3.74454934e-02\n",
            " -2.43014712e-02 -7.05475222e-03 -3.00281362e-01  8.52516002e-01\n",
            " -1.07893201e-02 -2.29830021e-02  2.88215942e-02  1.02645629e-02\n",
            " -4.10299809e-02  8.16360126e-03  1.56134600e-03 -2.09752763e-03\n",
            "  1.84995187e-02  4.56621375e-03  1.44598363e-03 -2.67258325e-02\n",
            " -1.84425240e-02 -4.64405386e-02  8.35415899e-02  7.16212523e-02\n",
            " -1.41997042e-02 -2.60343856e-02  1.75116661e-02 -1.89609324e-02\n",
            "  1.51404964e-02  1.39744306e-02 -2.50378615e-02  2.97363348e-02\n",
            " -1.80383524e-03 -4.10168208e-02  2.75701433e-02  4.68371565e-03\n",
            "  6.67350958e-03  8.09098979e-02 -1.84573642e-02  2.57004712e-01\n",
            "  1.46224191e-02  7.51698034e-03 -3.74863523e-03  2.80817379e-03\n",
            " -2.30406711e-02  1.09174641e-02  3.04123480e-04 -3.52278040e-02\n",
            "  2.35463010e-02 -6.71133733e-03 -5.13553910e-03 -2.78702488e-02\n",
            "  4.45234274e-03 -1.07572108e-01  7.55308715e-02 -2.39831037e-01\n",
            " -4.83704458e-02  6.21779975e-02 -2.44576276e-02  6.27542417e-03\n",
            "  1.10875291e-02  3.09729594e-02  5.65490630e-03  3.31829281e-02\n",
            " -2.01317580e-03  9.20554393e-03  1.66869131e-02 -1.15581077e-02\n",
            "  2.35327334e-02  2.60357715e-02  1.31785594e-02 -1.23397279e-01\n",
            " -8.95546312e-02 -9.56227062e-02 -1.48865910e-02 -1.11093291e-02\n",
            " -1.99647405e-02 -5.02287223e-02  4.27421511e-02  4.32641416e-02\n",
            "  5.43161585e-02  4.74579927e-02  2.60690075e-02  2.32779030e-02\n",
            "  2.91604097e-02 -4.30183683e-03  2.35374301e-02  7.67074885e-02\n",
            " -8.83714014e-02  1.45351799e-01 -1.77853619e-02  9.31729484e-03\n",
            "  2.40454933e-02  1.31122280e-03  3.00977908e-03  1.70993874e-02\n",
            "  3.73672068e-02  7.45442082e-03  2.26782340e-02  2.55742417e-02\n",
            " -9.93150786e-03  4.13953116e-02  1.24544331e-02  3.81381218e-02\n",
            " -2.78919013e-01  2.20926907e-02 -5.81085411e-02  3.07458552e-02\n",
            " -1.92959878e-02 -9.02802488e-03 -1.55809691e-02 -1.66085108e-02\n",
            "  1.14419956e-02  4.12953263e-02  5.06166645e-03  6.82632676e-03\n",
            "  5.32469229e-03  2.53863707e-03 -1.33401468e-02 -6.28996744e-02\n",
            "  1.34278730e-02  3.67910416e-03 -3.14511048e-02 -4.16454053e-02\n",
            " -3.27969530e-02  1.20323650e-02 -1.69401356e-02  1.03993560e-02\n",
            " -2.88403971e-02  1.76162059e-04  1.82053600e-02  2.86921615e-02\n",
            "  3.16018004e-02  2.04636395e-03  4.41558421e-02  1.88087585e-02\n",
            " -6.36063342e-02 -5.57847883e-03  1.73805662e-02 -9.02619597e-03\n",
            " -4.39517027e-02 -2.62795093e-02 -3.09494162e-02 -2.61905334e-02\n",
            " -1.90706859e-02  4.06339451e-02 -1.49688121e-02  2.93013413e-02\n",
            " -3.26385069e-02  1.51726423e-02  7.70193275e-03  4.14697249e-02\n",
            "  4.38970944e-02 -5.06161740e-02 -7.38034819e-03 -1.60196064e-02\n",
            "  1.75161800e-03 -2.10619088e-02 -4.55153111e-02 -2.35427728e-02\n",
            " -2.81240475e-03 -2.40145029e-02  9.36061932e-03 -2.08329171e-03\n",
            "  2.19748659e-02 -2.11113055e-02  1.70255580e-02  2.69134753e-03\n",
            " -4.66046803e-02  2.14634335e-02 -1.31636534e-02 -1.41679482e-02\n",
            " -3.22931331e-02  2.61042212e-02 -4.36889448e-02  1.37579035e-02\n",
            " -5.07792400e-02  4.75559891e-02  7.79299564e-03 -3.42803683e-03\n",
            "  2.72091714e-02  1.21428923e-02 -8.41715187e-03  3.45356784e-02\n",
            "  3.09170271e-02 -3.03021006e-02 -3.09834244e-02  9.08303244e-03\n",
            " -2.45863921e-02 -1.36796054e-02  2.49691822e-02 -1.45677072e-02\n",
            " -6.58635404e-02  3.38878358e-02 -1.03250785e-02  3.00797143e-02\n",
            " -9.65780041e-03  5.40689921e-03 -6.27289220e-03  3.75240195e-02\n",
            " -5.25820942e-02 -2.38594459e-02  1.55817034e-02 -1.74886787e-02\n",
            " -1.88637251e-02  1.58969224e-02 -5.50471725e-02 -3.49047674e-03\n",
            "  3.09524729e-02 -2.58917663e-02  2.76828216e-02 -2.82764811e-02\n",
            "  3.26349292e-02 -5.13394050e-02  6.82968244e-02 -3.05073152e-02\n",
            " -4.48029597e-02  3.86866220e-02 -1.64622897e-02  1.40027312e-02\n",
            " -3.73796791e-02  2.52219524e-02  4.45579485e-02 -1.02585586e-01\n",
            "  9.79880302e-02  2.83002350e-02  1.04835533e-02 -1.31341530e-02\n",
            " -2.39629853e-02 -6.72845554e-04  1.84571771e-02  1.07237759e-02]\n",
            "MSE: 0.15\n",
            "Coefficient of determination: 0.39\n"
          ]
        }
      ]
    },
    {
      "cell_type": "code",
      "source": [
        "from math import sqrt\n",
        "\n",
        "rmse_val = [] #to store rmse values for different k\n",
        "rmse_valtrain = []\n",
        "for K in k_points:\n",
        "    model = LinearRegression()\n",
        "\n",
        "    model.fit(train_x, train_y)  #fit the model\n",
        "    pred_train=model.predict(train_x) #make prediction on train set\n",
        "    pred=model.predict(test_x) #make prediction on test set\n",
        "    error_train = sqrt(mean_squared_error(train_y,pred_train)) #calculate rmse\n",
        "    error = sqrt(mean_squared_error(test_y,pred)) #calculate rmse\n",
        "    rmse_val.append(error) #store rmse values\n",
        "    rmse_valtrain.append(error_train)\n",
        "    print('RMSE value for train set k = ', K, 'is:', error_train)\n",
        "    print('RMSE value fortest set k= ' , K , 'is:', error)\n",
        "    print('\\n')\n"
      ],
      "metadata": {
        "colab": {
          "base_uri": "https://localhost:8080/"
        },
        "id": "hgZSJeh-9--0",
        "outputId": "3717949a-7fad-4bd0-9afb-d2a266d75190"
      },
      "execution_count": 7,
      "outputs": [
        {
          "output_type": "stream",
          "name": "stdout",
          "text": [
            "RMSE value for train set k =  1 is: 0.15751736903818547\n",
            "RMSE value fortest set k=  1 is: 0.38944235095282775\n",
            "\n",
            "\n",
            "RMSE value for train set k =  3 is: 0.15751736903818547\n",
            "RMSE value fortest set k=  3 is: 0.38944235095282775\n",
            "\n",
            "\n",
            "RMSE value for train set k =  5 is: 0.15751736903818547\n",
            "RMSE value fortest set k=  5 is: 0.38944235095282775\n",
            "\n",
            "\n",
            "RMSE value for train set k =  7 is: 0.15751736903818547\n",
            "RMSE value fortest set k=  7 is: 0.38944235095282775\n",
            "\n",
            "\n",
            "RMSE value for train set k =  15 is: 0.15751736903818547\n",
            "RMSE value fortest set k=  15 is: 0.38944235095282775\n",
            "\n",
            "\n"
          ]
        }
      ]
    },
    {
      "cell_type": "code",
      "source": [
        "fig = plt.figure(figsize = (8, 8))\n",
        "axes = fig.add_subplot(1, 1, 1)\n",
        "\n",
        "\n",
        "axes.plot(k_points, rmse_val, '-', color = 'orange', label = 'linear-train')\n",
        "axes.plot(k_points, rmse_valtrain, '-', color = 'green', label = 'linear-test')\n",
        "\n",
        "axes.legend()\n",
        "axes.set_xlabel(\"k\")\n",
        "axes.set_ylabel(\"Error\")\n",
        "plt.show()\n"
      ],
      "metadata": {
        "colab": {
          "base_uri": "https://localhost:8080/",
          "height": 499
        },
        "id": "7BiG1LgH-zgm",
        "outputId": "df590a2e-2fd5-4075-bde8-41b8cbb5694e"
      },
      "execution_count": 8,
      "outputs": [
        {
          "output_type": "display_data",
          "data": {
            "image/png": "[encoded data removed]",
            "text/plain": [
              "<Figure size 576x576 with 1 Axes>"
            ]
          },
          "metadata": {
            "needs_background": "light"
          }
        }
      ]
    },
    {
      "cell_type": "code",
      "source": [
        "from sklearn import neighbors\n",
        "from sklearn.metrics import mean_squared_error \n",
        "from math import sqrt\n",
        "import matplotlib.pyplot as plt\n",
        "\n",
        "rmse_val = [] #to store rmse values for different k\n",
        "rmse_valtrain = []\n",
        "for K in k_points:\n",
        "    model = neighbors.KNeighborsRegressor(n_neighbors = K)\n",
        "\n",
        "    model.fit(train_x, train_y)  #fit the model\n",
        "    pred_train=model.predict(train_x) #make prediction on train set\n",
        "    pred=model.predict(test_x) #make prediction on test set\n",
        "    error_train = sqrt(mean_squared_error(train_y,pred_train)) #calculate rmse\n",
        "    error = sqrt(mean_squared_error(test_y,pred)) #calculate rmse\n",
        "    rmse_val.append(error) #store rmse values\n",
        "    rmse_valtrain.append(error_train)\n",
        "    print('RMSE value for train set k = ', K, 'is:', error_train)\n",
        "    print('RMSE value fortest set k= ' , K , 'is:', error)\n",
        "    print('\\n')"
      ],
      "metadata": {
        "colab": {
          "base_uri": "https://localhost:8080/"
        },
        "id": "8wr8l9pa-7lp",
        "outputId": "b36a28ac-823a-4f6b-c7b5-666b63b2d806"
      },
      "execution_count": 9,
      "outputs": [
        {
          "output_type": "stream",
          "name": "stdout",
          "text": [
            "RMSE value for train set k =  1 is: 0.0\n",
            "RMSE value fortest set k=  1 is: 0.15724272550828775\n",
            "\n",
            "\n",
            "RMSE value for train set k =  3 is: 0.05932721485563096\n",
            "RMSE value fortest set k=  3 is: 0.1513068831672006\n",
            "\n",
            "\n",
            "RMSE value for train set k =  5 is: 0.06787953586677535\n",
            "RMSE value fortest set k=  5 is: 0.15118578920369088\n",
            "\n",
            "\n",
            "RMSE value for train set k =  7 is: 0.07333163697446661\n",
            "RMSE value fortest set k=  7 is: 0.1534531872941642\n",
            "\n",
            "\n",
            "RMSE value for train set k =  15 is: 0.0913155677711452\n",
            "RMSE value fortest set k=  15 is: 0.16374732612530443\n",
            "\n",
            "\n"
          ]
        }
      ]
    },
    {
      "cell_type": "code",
      "source": [
        "fig = plt.figure(figsize = (8, 8))\n",
        "axes = fig.add_subplot(1, 1, 1)\n",
        "\n",
        "\n",
        "axes.plot(k_points, rmse_val, '-', color = 'orange', label = 'knn-train')\n",
        "axes.plot(k_points, rmse_valtrain, '-', color = 'green', label = 'knn-test')\n",
        "\n",
        "axes.legend()\n",
        "axes.set_xlabel(\"k\")\n",
        "axes.set_ylabel(\"Error\")\n",
        "plt.show()"
      ],
      "metadata": {
        "colab": {
          "base_uri": "https://localhost:8080/",
          "height": 497
        },
        "id": "dS3zGKdd_PXv",
        "outputId": "93893814-ce7a-42fc-bebc-1904c54ed567"
      },
      "execution_count": 10,
      "outputs": [
        {
          "output_type": "display_data",
          "data": {
            "image/png": "[encoded data removed]",
            "text/plain": [
              "<Figure size 576x576 with 1 Axes>"
            ]
          },
          "metadata": {
            "needs_background": "light"
          }
        }
      ]
    }
  ]
}