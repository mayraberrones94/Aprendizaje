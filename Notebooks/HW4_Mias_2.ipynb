{
  "nbformat": 4,
  "nbformat_minor": 0,
  "metadata": {
    "colab": {
      "name": "HW4_Mias_2.ipynb",
      "provenance": [],
      "collapsed_sections": []
    },
    "kernelspec": {
      "name": "python3",
      "display_name": "Python 3"
    },
    "language_info": {
      "name": "python"
    }
  },
  "cells": [
    {
      "cell_type": "code",
      "execution_count": null,
      "metadata": {
        "id": "ItuA0evRbPcB"
      },
      "outputs": [],
      "source": [
        "import cv2\n",
        "from imutils import paths\n",
        "import os\n",
        "\n",
        "Hg = 200\n",
        "Lng = 80\n",
        "\n",
        "imagePaths = list(paths.list_images('/content/drive/MyDrive/BD/Minimias/MIAS_Normal'))\n",
        "data = []\n",
        "labels = []\n",
        "i = 0\n",
        "for imagePath in imagePaths:\n",
        "    i = i + 1\n",
        "    label = imagePath.split(os.path.sep)[-2]\n",
        "    image = cv2.imread(imagePath)\n",
        "    image = cv2.resize(image, (Hg, Lng))\n",
        "    try:\n",
        "      cv2.imwrite('/content/drive/MyDrive/BD/Minimias/MIAS_sn/{}mias.png'.format(i), image)\n",
        "    except AttributeError:\n",
        "      print(\"Not found {}\".format(img))"
      ]
    },
    {
      "cell_type": "code",
      "source": [
        "from PIL import Image\n",
        "import numpy as np\n",
        "import sys\n",
        "import os\n",
        "import csv\n",
        "\n",
        "#Useful function\n",
        "def createFileList(myDir, format='.png'):\n",
        "  fileList = []\n",
        "  print(myDir)\n",
        "  for root, dirs, files in os.walk(myDir, topdown=False):\n",
        "    for name in files:\n",
        "      if name.endswith(format):\n",
        "        fullName = os.path.join(root, name)\n",
        "        fileList.append(fullName)\n",
        "  return fileList\n",
        "\n",
        "# load the original image\n",
        "myFileList = createFileList('/content/drive/MyDrive/BD/Minimias/MIAS_sc')\n",
        "y_label = []\n",
        "for file in myFileList:\n",
        "    print(file)\n",
        "    img_file = Image.open(file)\n",
        "    # img_file.show()\n",
        "    y_label.append(1)\n",
        "\n",
        "    # get original image parameters...\n",
        "    width, height = img_file.size\n",
        "    format = img_file.format\n",
        "    mode = img_file.mode\n",
        "\n",
        "    # Make image Greyscala\n",
        "    img_grey = img_file.convert('L')\n",
        "    #img_grey.save('result.png')\n",
        "    #img_grey.show()\n",
        "\n",
        "    # Save Greyscale values\n",
        "    value = np.asarray(img_grey.getdata(), dtype=np.int).reshape((img_grey.size[1], img_grey.size[0]))\n",
        "    value = value.flatten()\n",
        "    print(value)\n",
        "    with open(\"/content/drive/MyDrive/BD/Minimias_completo.csv\", 'a') as f:\n",
        "        writer = csv.writer(f)\n",
        "        writer.writerow(value)"
      ],
      "metadata": {
        "colab": {
          "base_uri": "https://localhost:8080/"
        },
        "id": "K_TVQIKlcQJ2",
        "outputId": "b9ff3820-df1e-4cd4-f347-4110a1e52fbe"
      },
      "execution_count": 1,
      "outputs": [
        {
          "output_type": "stream",
          "name": "stdout",
          "text": [
            "/content/drive/MyDrive/BD/Minimias/MIAS_sc\n",
            "/content/drive/MyDrive/BD/Minimias/MIAS_sc/1mias.png\n",
            "[  0   0   0 ... 158 151 148]\n",
            "/content/drive/MyDrive/BD/Minimias/MIAS_sc/2mias.png\n",
            "[214 213 212 ...   4  63 153]\n",
            "/content/drive/MyDrive/BD/Minimias/MIAS_sc/3mias.png\n",
            "[206 208 210 ...   2   3   3]\n",
            "/content/drive/MyDrive/BD/Minimias/MIAS_sc/4mias.png\n",
            "[208 210 212 ...   1   1   0]\n",
            "/content/drive/MyDrive/BD/Minimias/MIAS_sc/5mias.png\n",
            "[0 0 0 ... 0 0 0]\n",
            "/content/drive/MyDrive/BD/Minimias/MIAS_sc/6mias.png\n",
            "[ 9 10  5 ... 42 39 40]\n",
            "/content/drive/MyDrive/BD/Minimias/MIAS_sc/7mias.png\n",
            "[216 212 211 ...  72 121   9]\n",
            "/content/drive/MyDrive/BD/Minimias/MIAS_sc/8mias.png\n",
            "[  0   0   0 ... 132 135 136]\n",
            "/content/drive/MyDrive/BD/Minimias/MIAS_sc/9mias.png\n",
            "[173 204 206 ...   5   4   5]\n",
            "/content/drive/MyDrive/BD/Minimias/MIAS_sc/10mias.png\n",
            "[  7   6   7 ... 114 126 130]\n",
            "/content/drive/MyDrive/BD/Minimias/MIAS_sc/11mias.png\n",
            "[ 0  0  0 ... 35 35 33]\n",
            "/content/drive/MyDrive/BD/Minimias/MIAS_sc/12mias.png\n",
            "[190 225 223 ...   0   0   0]\n",
            "/content/drive/MyDrive/BD/Minimias/MIAS_sc/13mias.png\n",
            "[  0   0   0 ...  54  83 104]\n",
            "/content/drive/MyDrive/BD/Minimias/MIAS_sc/14mias.png\n",
            "[ 5  6  6 ... 79 80 77]\n",
            "/content/drive/MyDrive/BD/Minimias/MIAS_sc/15mias.png\n",
            "[ 1  0  0 ... 52 52 51]\n",
            "/content/drive/MyDrive/BD/Minimias/MIAS_sc/16mias.png\n",
            "[ 0  0  0 ... 61 59 63]\n",
            "/content/drive/MyDrive/BD/Minimias/MIAS_sc/17mias.png\n",
            "[217 216 215 ...   0   0   0]\n",
            "/content/drive/MyDrive/BD/Minimias/MIAS_sc/18mias.png\n",
            "[216 219 219 ... 162 192 211]\n",
            "/content/drive/MyDrive/BD/Minimias/MIAS_sc/19mias.png\n",
            "[ 8 10 10 ...  0  0  0]\n",
            "/content/drive/MyDrive/BD/Minimias/MIAS_sc/20mias.png\n",
            "[198 200 201 ...   0   0   0]\n",
            "/content/drive/MyDrive/BD/Minimias/MIAS_sc/21mias.png\n",
            "[ 2  3  3 ... 41 49 59]\n",
            "/content/drive/MyDrive/BD/Minimias/MIAS_sc/22mias.png\n",
            "[150 149 152 ...   3   3   4]\n",
            "/content/drive/MyDrive/BD/Minimias/MIAS_sc/23mias.png\n",
            "[212 225 222 ...   5   5   5]\n",
            "/content/drive/MyDrive/BD/Minimias/MIAS_sc/24mias.png\n",
            "[ 8  9  8 ... 10 11 11]\n",
            "/content/drive/MyDrive/BD/Minimias/MIAS_sc/25mias.png\n",
            "[186 227 227 ...   5   5   4]\n",
            "/content/drive/MyDrive/BD/Minimias/MIAS_sc/26mias.png\n",
            "[189 192 189 ...   6   7   7]\n",
            "/content/drive/MyDrive/BD/Minimias/MIAS_sc/27mias.png\n",
            "[ 7  7  6 ... 49 48 49]\n",
            "/content/drive/MyDrive/BD/Minimias/MIAS_sc/28mias.png\n",
            "[228 231 234 ... 110 117 122]\n",
            "/content/drive/MyDrive/BD/Minimias/MIAS_sc/29mias.png\n",
            "[125 127 127 ...   8   8   8]\n",
            "/content/drive/MyDrive/BD/Minimias/MIAS_sc/30mias.png\n",
            "[196 187 189 ...   3   3   2]\n",
            "/content/drive/MyDrive/BD/Minimias/MIAS_sc/31mias.png\n",
            "[214 210 211 ...   0   0   0]\n",
            "/content/drive/MyDrive/BD/Minimias/MIAS_sc/32mias.png\n",
            "[188 194 168 ...  73  79  78]\n",
            "/content/drive/MyDrive/BD/Minimias/MIAS_sc/33mias.png\n",
            "[  2   2   1 ... 185 201 205]\n",
            "/content/drive/MyDrive/BD/Minimias/MIAS_sc/34mias.png\n",
            "[ 0  0  0 ... 50 51 71]\n",
            "/content/drive/MyDrive/BD/Minimias/MIAS_sc/35mias.png\n",
            "[179 179 176 ...   1   1   1]\n",
            "/content/drive/MyDrive/BD/Minimias/MIAS_sc/36mias.png\n",
            "[  0   0   0 ... 124 132 131]\n",
            "/content/drive/MyDrive/BD/Minimias/MIAS_sc/37mias.png\n",
            "[185 189 191 ...   6   6   6]\n",
            "/content/drive/MyDrive/BD/Minimias/MIAS_sc/38mias.png\n",
            "[0 0 0 ... 0 0 0]\n",
            "/content/drive/MyDrive/BD/Minimias/MIAS_sc/39mias.png\n",
            "[0 0 0 ... 0 0 0]\n",
            "/content/drive/MyDrive/BD/Minimias/MIAS_sc/40mias.png\n",
            "[ 0  0  0 ... 57 62 69]\n",
            "/content/drive/MyDrive/BD/Minimias/MIAS_sc/41mias.png\n",
            "[ 0  0  0 ... 93 96 91]\n",
            "/content/drive/MyDrive/BD/Minimias/MIAS_sc/42mias.png\n",
            "[0 0 0 ... 0 0 0]\n",
            "/content/drive/MyDrive/BD/Minimias/MIAS_sc/43mias.png\n",
            "[  0   0   0 ... 100 149 186]\n",
            "/content/drive/MyDrive/BD/Minimias/MIAS_sc/44mias.png\n",
            "[243 243 243 ...   0   0   0]\n",
            "/content/drive/MyDrive/BD/Minimias/MIAS_sc/45mias.png\n",
            "[191 229 228 ...   0   0   0]\n",
            "/content/drive/MyDrive/BD/Minimias/MIAS_sc/46mias.png\n",
            "[199 213 211 ...   7   7   6]\n",
            "/content/drive/MyDrive/BD/Minimias/MIAS_sc/47mias.png\n",
            "[212 215 215 ...   7   7  89]\n",
            "/content/drive/MyDrive/BD/Minimias/MIAS_sc/48mias.png\n",
            "[0 0 0 ... 0 0 0]\n",
            "/content/drive/MyDrive/BD/Minimias/MIAS_sc/49mias.png\n",
            "[184 190 191 ...   0 215 233]\n",
            "/content/drive/MyDrive/BD/Minimias/MIAS_sc/50mias.png\n",
            "[179 178 174 ...   2   1   1]\n",
            "/content/drive/MyDrive/BD/Minimias/MIAS_sc/51mias.png\n",
            "[213 214 212 ...  17  16  18]\n",
            "/content/drive/MyDrive/BD/Minimias/MIAS_sc/52mias.png\n",
            "[ 2  4  6 ... 14 15 16]\n",
            "/content/drive/MyDrive/BD/Minimias/MIAS_sc/53mias.png\n",
            "[155 152 150 ...   0   0   0]\n",
            "/content/drive/MyDrive/BD/Minimias/MIAS_sc/54mias.png\n",
            "[ 1  1  2 ... 13 13 14]\n",
            "/content/drive/MyDrive/BD/Minimias/MIAS_sc/55mias.png\n",
            "[233 233 231 ...   0   0   0]\n",
            "/content/drive/MyDrive/BD/Minimias/MIAS_sc/56mias.png\n",
            "[231 231 231 ...   3   3   3]\n",
            "/content/drive/MyDrive/BD/Minimias/MIAS_sc/57mias.png\n",
            "[128 129 129 ...  29  27  25]\n",
            "/content/drive/MyDrive/BD/Minimias/MIAS_sc/58mias.png\n",
            "[155 145 146 ...   0   0   0]\n",
            "/content/drive/MyDrive/BD/Minimias/MIAS_sc/59mias.png\n",
            "[206 204 201 ...   5   4   4]\n",
            "/content/drive/MyDrive/BD/Minimias/MIAS_sc/60mias.png\n",
            "[ 0  0  0 ... 63 68 63]\n",
            "/content/drive/MyDrive/BD/Minimias/MIAS_sc/61mias.png\n",
            "[0 0 0 ... 0 0 0]\n",
            "/content/drive/MyDrive/BD/Minimias/MIAS_sc/62mias.png\n",
            "[ 0  0  0 ... 71 71 82]\n",
            "/content/drive/MyDrive/BD/Minimias/MIAS_sc/63mias.png\n",
            "[ 0  0  0 ...  7 10 14]\n",
            "/content/drive/MyDrive/BD/Minimias/MIAS_sc/64mias.png\n",
            "[181 185 184 ...   1   1   1]\n",
            "/content/drive/MyDrive/BD/Minimias/MIAS_sc/65mias.png\n",
            "[229 228 229 ...   0   0   0]\n",
            "/content/drive/MyDrive/BD/Minimias/MIAS_sc/66mias.png\n",
            "[218 219 220 ...   0   0   0]\n",
            "/content/drive/MyDrive/BD/Minimias/MIAS_sc/67mias.png\n",
            "[  0   0   0 ...  88 136 150]\n",
            "/content/drive/MyDrive/BD/Minimias/MIAS_sc/68mias.png\n",
            "[121 129 129 ... 229 236 237]\n",
            "/content/drive/MyDrive/BD/Minimias/MIAS_sc/69mias.png\n",
            "[195 221 221 ...   0   0   0]\n",
            "/content/drive/MyDrive/BD/Minimias/MIAS_sc/70mias.png\n",
            "[196 206 206 ...   3   3   3]\n",
            "/content/drive/MyDrive/BD/Minimias/MIAS_sc/71mias.png\n",
            "[177 179 177 ...   0   0   0]\n",
            "/content/drive/MyDrive/BD/Minimias/MIAS_sc/72mias.png\n",
            "[191 206 206 ...   0   5   2]\n",
            "/content/drive/MyDrive/BD/Minimias/MIAS_sc/73mias.png\n",
            "[ 0  0  0 ... 19 21 29]\n",
            "/content/drive/MyDrive/BD/Minimias/MIAS_sc/74mias.png\n",
            "[230 227 222 ...  17  37  83]\n",
            "/content/drive/MyDrive/BD/Minimias/MIAS_sc/75mias.png\n",
            "[0 0 0 ... 0 0 0]\n",
            "/content/drive/MyDrive/BD/Minimias/MIAS_sc/76mias.png\n",
            "[0 0 0 ... 0 0 0]\n",
            "/content/drive/MyDrive/BD/Minimias/MIAS_sc/77mias.png\n",
            "[ 0  0  0 ... 61 59 60]\n",
            "/content/drive/MyDrive/BD/Minimias/MIAS_sc/78mias.png\n",
            "[  3   4   4 ... 116 121 129]\n",
            "/content/drive/MyDrive/BD/Minimias/MIAS_sc/79mias.png\n",
            "[0 0 0 ... 0 0 0]\n",
            "/content/drive/MyDrive/BD/Minimias/MIAS_sc/80mias.png\n",
            "[ 0  0  0 ...  5  9 14]\n",
            "/content/drive/MyDrive/BD/Minimias/MIAS_sc/81mias.png\n",
            "[201 200 198 ...   2   3   2]\n",
            "/content/drive/MyDrive/BD/Minimias/MIAS_sc/82mias.png\n",
            "[ 40  41  42 ... 102 107 103]\n",
            "/content/drive/MyDrive/BD/Minimias/MIAS_sc/83mias.png\n",
            "[223 222 221 ...   2   2   2]\n",
            "/content/drive/MyDrive/BD/Minimias/MIAS_sc/84mias.png\n",
            "[229 230 229 ... 244 245 245]\n",
            "/content/drive/MyDrive/BD/Minimias/MIAS_sc/85mias.png\n",
            "[  2   3   3 ... 149 152 152]\n",
            "/content/drive/MyDrive/BD/Minimias/MIAS_sc/86mias.png\n",
            "[124   5   4 ...  19  21  21]\n",
            "/content/drive/MyDrive/BD/Minimias/MIAS_sc/87mias.png\n",
            "[197 193 181 ...   2   2   2]\n",
            "/content/drive/MyDrive/BD/Minimias/MIAS_sc/88mias.png\n",
            "[170 185 187 ...   7   7   6]\n",
            "/content/drive/MyDrive/BD/Minimias/MIAS_sc/89mias.png\n",
            "[199 192 191 ...   1   1   2]\n",
            "/content/drive/MyDrive/BD/Minimias/MIAS_sc/90mias.png\n",
            "[207 207 207 ...   3   3   3]\n",
            "/content/drive/MyDrive/BD/Minimias/MIAS_sc/91mias.png\n",
            "[197 201 195 ... 168 174 181]\n",
            "/content/drive/MyDrive/BD/Minimias/MIAS_sc/92mias.png\n",
            "[ 0  0  0 ... 59 71 75]\n",
            "/content/drive/MyDrive/BD/Minimias/MIAS_sc/93mias.png\n",
            "[138 139 141 ...  57  69  78]\n",
            "/content/drive/MyDrive/BD/Minimias/MIAS_sc/94mias.png\n",
            "[0 0 0 ... 0 0 0]\n",
            "/content/drive/MyDrive/BD/Minimias/MIAS_sc/95mias.png\n",
            "[10  6  9 ... 62 63 59]\n",
            "/content/drive/MyDrive/BD/Minimias/MIAS_sc/96mias.png\n",
            "[ 0  0  0 ... 43 73 97]\n",
            "/content/drive/MyDrive/BD/Minimias/MIAS_sc/97mias.png\n",
            "[224 225 224 ...   0   0   0]\n",
            "/content/drive/MyDrive/BD/Minimias/MIAS_sc/98mias.png\n",
            "[ 0  0  0 ... 31 32 29]\n",
            "/content/drive/MyDrive/BD/Minimias/MIAS_sc/99mias.png\n",
            "[180 179 177 ...   9   9   9]\n",
            "/content/drive/MyDrive/BD/Minimias/MIAS_sc/100mias.png\n",
            "[197 198 198 ...   9   9   8]\n",
            "/content/drive/MyDrive/BD/Minimias/MIAS_sc/101mias.png\n",
            "[232 230 231 ...   1   0   1]\n",
            "/content/drive/MyDrive/BD/Minimias/MIAS_sc/102mias.png\n",
            "[174 174 172 ...   0   0   0]\n",
            "/content/drive/MyDrive/BD/Minimias/MIAS_sc/103mias.png\n",
            "[191 189 185 ...   0   0   0]\n",
            "/content/drive/MyDrive/BD/Minimias/MIAS_sc/104mias.png\n",
            "[ 3  3  3 ... 21 20 22]\n",
            "/content/drive/MyDrive/BD/Minimias/MIAS_sc/105mias.png\n",
            "[ 14 162 192 ...  85  86  88]\n",
            "/content/drive/MyDrive/BD/Minimias/MIAS_sc/106mias.png\n",
            "[ 0  0  0 ... 97 94 96]\n",
            "/content/drive/MyDrive/BD/Minimias/MIAS_sc/107mias.png\n",
            "[111  99  84 ...   6   8  10]\n",
            "/content/drive/MyDrive/BD/Minimias/MIAS_sc/108mias.png\n",
            "[  0   0   0 ... 115 122 127]\n",
            "/content/drive/MyDrive/BD/Minimias/MIAS_sc/109mias.png\n",
            "[224 224 220 ...   0   0   0]\n"
          ]
        }
      ]
    },
    {
      "cell_type": "code",
      "source": [
        "import pandas as pd\n",
        "\n",
        "\n",
        "print(len(y_label))\n",
        "read_file = pd.read_csv('/content/drive/MyDrive/BD/Minimias_completo.csv')\n",
        "read_file.shape"
      ],
      "metadata": {
        "colab": {
          "base_uri": "https://localhost:8080/"
        },
        "id": "GfSldAABcyD9",
        "outputId": "0d5ded0a-67f5-4f4d-b06b-10f702152508"
      },
      "execution_count": 2,
      "outputs": [
        {
          "output_type": "stream",
          "name": "stdout",
          "text": [
            "109\n"
          ]
        },
        {
          "output_type": "execute_result",
          "data": {
            "text/plain": [
              "(108, 16000)"
            ]
          },
          "metadata": {},
          "execution_count": 2
        }
      ]
    },
    {
      "cell_type": "code",
      "source": [
        "myFileList = createFileList('/content/drive/MyDrive/BD/Minimias/MIAS_sn')\n",
        "\n",
        "for file in myFileList:\n",
        "    print(file)\n",
        "    img_file = Image.open(file)\n",
        "    # img_file.show()\n",
        "    y_label.append(0)\n",
        "\n",
        "    # get original image parameters...\n",
        "    width, height = img_file.size\n",
        "    format = img_file.format\n",
        "    mode = img_file.mode\n",
        "\n",
        "    # Make image Greyscala\n",
        "    img_grey = img_file.convert('L')\n",
        "    #img_grey.save('result.png')\n",
        "    #img_grey.show()\n",
        "\n",
        "    # Save Greyscale values\n",
        "    value = np.asarray(img_grey.getdata(), dtype=np.int).reshape((img_grey.size[1], img_grey.size[0]))\n",
        "    value = value.flatten()\n",
        "    print(value)\n",
        "    with open(\"/content/drive/MyDrive/BD/Minimias_completo.csv\", 'a') as f:\n",
        "        writer = csv.writer(f)\n",
        "        writer.writerow(value)"
      ],
      "metadata": {
        "colab": {
          "base_uri": "https://localhost:8080/"
        },
        "id": "r38MHI26duzP",
        "outputId": "d8b115e4-5c09-44f7-98df-a884e43b845f"
      },
      "execution_count": 3,
      "outputs": [
        {
          "output_type": "stream",
          "name": "stdout",
          "text": [
            "/content/drive/MyDrive/BD/Minimias/MIAS_sn\n",
            "/content/drive/MyDrive/BD/Minimias/MIAS_sn/1mias.png\n",
            "[146 155 155 ...   0   0   1]\n",
            "/content/drive/MyDrive/BD/Minimias/MIAS_sn/2mias.png\n",
            "[0 0 0 ... 0 0 0]\n",
            "/content/drive/MyDrive/BD/Minimias/MIAS_sn/3mias.png\n",
            "[185 181 184 ...   0   0   0]\n",
            "/content/drive/MyDrive/BD/Minimias/MIAS_sn/4mias.png\n",
            "[222 234 234 ...   7   6   6]\n",
            "/content/drive/MyDrive/BD/Minimias/MIAS_sn/5mias.png\n",
            "[185   5   0 ...   0   0   0]\n",
            "/content/drive/MyDrive/BD/Minimias/MIAS_sn/6mias.png\n",
            "[214 218 220 ...   0   0   0]\n",
            "/content/drive/MyDrive/BD/Minimias/MIAS_sn/7mias.png\n",
            "[165 176 177 ...   6   6   5]\n",
            "/content/drive/MyDrive/BD/Minimias/MIAS_sn/8mias.png\n",
            "[211 207 206 ... 254 253 254]\n",
            "/content/drive/MyDrive/BD/Minimias/MIAS_sn/9mias.png\n",
            "[0 0 0 ... 0 0 0]\n",
            "/content/drive/MyDrive/BD/Minimias/MIAS_sn/10mias.png\n",
            "[163 174 174 ...   0   0   0]\n",
            "/content/drive/MyDrive/BD/Minimias/MIAS_sn/11mias.png\n",
            "[230 231 231 ... 229 233 235]\n",
            "/content/drive/MyDrive/BD/Minimias/MIAS_sn/12mias.png\n",
            "[203 213 212 ...   0   0   0]\n",
            "/content/drive/MyDrive/BD/Minimias/MIAS_sn/13mias.png\n",
            "[193 202 202 ...   4   4   3]\n",
            "/content/drive/MyDrive/BD/Minimias/MIAS_sn/14mias.png\n",
            "[ 0  0 70 ...  6  0  0]\n",
            "/content/drive/MyDrive/BD/Minimias/MIAS_sn/15mias.png\n",
            "[0 0 0 ... 0 0 0]\n",
            "/content/drive/MyDrive/BD/Minimias/MIAS_sn/16mias.png\n",
            "[  0  30 198 ...   0   0   0]\n",
            "/content/drive/MyDrive/BD/Minimias/MIAS_sn/17mias.png\n",
            "[222 220 219 ...   6   5   5]\n",
            "/content/drive/MyDrive/BD/Minimias/MIAS_sn/18mias.png\n",
            "[195 207 206 ...   1   1   1]\n",
            "/content/drive/MyDrive/BD/Minimias/MIAS_sn/19mias.png\n",
            "[205 203 204 ...   0   0   0]\n",
            "/content/drive/MyDrive/BD/Minimias/MIAS_sn/20mias.png\n",
            "[183 185 183 ...   1   1   1]\n",
            "/content/drive/MyDrive/BD/Minimias/MIAS_sn/21mias.png\n",
            "[0 0 0 ... 0 0 0]\n",
            "/content/drive/MyDrive/BD/Minimias/MIAS_sn/22mias.png\n",
            "[223 224 224 ...   0   0   0]\n",
            "/content/drive/MyDrive/BD/Minimias/MIAS_sn/23mias.png\n",
            "[232 231 231 ...   2   2   3]\n",
            "/content/drive/MyDrive/BD/Minimias/MIAS_sn/24mias.png\n",
            "[0 0 0 ... 0 0 0]\n",
            "/content/drive/MyDrive/BD/Minimias/MIAS_sn/25mias.png\n",
            "[169 183 186 ...   1   0   1]\n",
            "/content/drive/MyDrive/BD/Minimias/MIAS_sn/26mias.png\n",
            "[0 0 0 ... 0 0 0]\n",
            "/content/drive/MyDrive/BD/Minimias/MIAS_sn/27mias.png\n",
            "[0 0 0 ... 0 0 0]\n",
            "/content/drive/MyDrive/BD/Minimias/MIAS_sn/28mias.png\n",
            "[217 217 218 ...   0   0   1]\n",
            "/content/drive/MyDrive/BD/Minimias/MIAS_sn/29mias.png\n",
            "[0 0 0 ... 0 0 0]\n",
            "/content/drive/MyDrive/BD/Minimias/MIAS_sn/30mias.png\n",
            "[0 0 0 ... 0 0 0]\n",
            "/content/drive/MyDrive/BD/Minimias/MIAS_sn/31mias.png\n",
            "[191 191 189 ...   0   0   0]\n",
            "/content/drive/MyDrive/BD/Minimias/MIAS_sn/32mias.png\n",
            "[0 0 0 ... 0 0 0]\n",
            "/content/drive/MyDrive/BD/Minimias/MIAS_sn/33mias.png\n",
            "[185 199 195 ...   1   2   1]\n",
            "/content/drive/MyDrive/BD/Minimias/MIAS_sn/34mias.png\n",
            "[206 207 209 ...   8   7   8]\n",
            "/content/drive/MyDrive/BD/Minimias/MIAS_sn/35mias.png\n",
            "[0 0 0 ... 0 0 0]\n",
            "/content/drive/MyDrive/BD/Minimias/MIAS_sn/36mias.png\n",
            "[0 0 0 ... 0 0 0]\n",
            "/content/drive/MyDrive/BD/Minimias/MIAS_sn/37mias.png\n",
            "[166 179 179 ...  14  14  14]\n",
            "/content/drive/MyDrive/BD/Minimias/MIAS_sn/38mias.png\n",
            "[0 0 0 ... 0 0 0]\n",
            "/content/drive/MyDrive/BD/Minimias/MIAS_sn/39mias.png\n",
            "[189 196 192 ... 207 223 232]\n",
            "/content/drive/MyDrive/BD/Minimias/MIAS_sn/40mias.png\n",
            "[107 104 108 ...   7   7   6]\n",
            "/content/drive/MyDrive/BD/Minimias/MIAS_sn/41mias.png\n",
            "[0 0 0 ... 0 0 0]\n",
            "/content/drive/MyDrive/BD/Minimias/MIAS_sn/42mias.png\n",
            "[0 0 0 ... 0 0 0]\n",
            "/content/drive/MyDrive/BD/Minimias/MIAS_sn/43mias.png\n",
            "[198 211 202 ...   2   2   2]\n",
            "/content/drive/MyDrive/BD/Minimias/MIAS_sn/44mias.png\n",
            "[0 0 0 ... 0 0 0]\n",
            "/content/drive/MyDrive/BD/Minimias/MIAS_sn/45mias.png\n",
            "[200 229 230 ...   0   0   0]\n",
            "/content/drive/MyDrive/BD/Minimias/MIAS_sn/46mias.png\n",
            "[0 0 0 ... 0 0 0]\n",
            "/content/drive/MyDrive/BD/Minimias/MIAS_sn/47mias.png\n",
            "[0 0 0 ... 0 0 0]\n",
            "/content/drive/MyDrive/BD/Minimias/MIAS_sn/48mias.png\n",
            "[0 0 0 ... 0 0 0]\n",
            "/content/drive/MyDrive/BD/Minimias/MIAS_sn/49mias.png\n",
            "[0 0 0 ... 0 0 0]\n",
            "/content/drive/MyDrive/BD/Minimias/MIAS_sn/50mias.png\n",
            "[182 208 204 ...   1   0   1]\n",
            "/content/drive/MyDrive/BD/Minimias/MIAS_sn/51mias.png\n",
            "[0 0 0 ... 0 0 0]\n",
            "/content/drive/MyDrive/BD/Minimias/MIAS_sn/52mias.png\n",
            "[244 243 244 ...   5   4   3]\n",
            "/content/drive/MyDrive/BD/Minimias/MIAS_sn/53mias.png\n",
            "[211 212 212 ...   0   0   0]\n",
            "/content/drive/MyDrive/BD/Minimias/MIAS_sn/54mias.png\n",
            "[  0   0  55 ... 111   0   0]\n",
            "/content/drive/MyDrive/BD/Minimias/MIAS_sn/55mias.png\n",
            "[157 180 185 ...   3   3   4]\n",
            "/content/drive/MyDrive/BD/Minimias/MIAS_sn/56mias.png\n",
            "[199 201 201 ...   0   0   0]\n",
            "/content/drive/MyDrive/BD/Minimias/MIAS_sn/57mias.png\n",
            "[0 0 0 ... 0 0 0]\n",
            "/content/drive/MyDrive/BD/Minimias/MIAS_sn/58mias.png\n",
            "[209 218 218 ...   0   0   0]\n",
            "/content/drive/MyDrive/BD/Minimias/MIAS_sn/59mias.png\n",
            "[219 220 222 ...   0   0   0]\n",
            "/content/drive/MyDrive/BD/Minimias/MIAS_sn/60mias.png\n",
            "[0 0 0 ... 0 0 0]\n",
            "/content/drive/MyDrive/BD/Minimias/MIAS_sn/61mias.png\n",
            "[0 0 0 ... 0 0 0]\n",
            "/content/drive/MyDrive/BD/Minimias/MIAS_sn/62mias.png\n",
            "[0 0 0 ... 0 0 0]\n",
            "/content/drive/MyDrive/BD/Minimias/MIAS_sn/63mias.png\n",
            "[218 214 214 ...   0   0   0]\n",
            "/content/drive/MyDrive/BD/Minimias/MIAS_sn/64mias.png\n",
            "[0 0 0 ... 0 0 0]\n",
            "/content/drive/MyDrive/BD/Minimias/MIAS_sn/65mias.png\n",
            "[0 0 0 ... 0 0 0]\n",
            "/content/drive/MyDrive/BD/Minimias/MIAS_sn/66mias.png\n",
            "[218 214 214 ...   0   0   0]\n",
            "/content/drive/MyDrive/BD/Minimias/MIAS_sn/67mias.png\n",
            "[0 0 0 ... 0 0 0]\n",
            "/content/drive/MyDrive/BD/Minimias/MIAS_sn/68mias.png\n",
            "[0 0 0 ... 0 0 0]\n",
            "/content/drive/MyDrive/BD/Minimias/MIAS_sn/69mias.png\n",
            "[0 0 0 ... 0 0 0]\n",
            "/content/drive/MyDrive/BD/Minimias/MIAS_sn/70mias.png\n",
            "[0 0 0 ... 0 0 0]\n",
            "/content/drive/MyDrive/BD/Minimias/MIAS_sn/71mias.png\n",
            "[221 235 233 ...   2   3   2]\n",
            "/content/drive/MyDrive/BD/Minimias/MIAS_sn/72mias.png\n",
            "[0 0 0 ... 0 0 0]\n",
            "/content/drive/MyDrive/BD/Minimias/MIAS_sn/73mias.png\n",
            "[175 179 177 ...   0   0   0]\n",
            "/content/drive/MyDrive/BD/Minimias/MIAS_sn/74mias.png\n",
            "[ 0  0 72 ...  9  0  0]\n",
            "/content/drive/MyDrive/BD/Minimias/MIAS_sn/75mias.png\n",
            "[226 224 223 ...   0   0   0]\n",
            "/content/drive/MyDrive/BD/Minimias/MIAS_sn/76mias.png\n",
            "[213 215 216 ...   0   0   0]\n",
            "/content/drive/MyDrive/BD/Minimias/MIAS_sn/77mias.png\n",
            "[195 192 191 ...   4   3   4]\n",
            "/content/drive/MyDrive/BD/Minimias/MIAS_sn/78mias.png\n",
            "[227 228 227 ...   0   0   0]\n",
            "/content/drive/MyDrive/BD/Minimias/MIAS_sn/79mias.png\n",
            "[203 200 201 ...   1   1   1]\n",
            "/content/drive/MyDrive/BD/Minimias/MIAS_sn/80mias.png\n",
            "[206 236 235 ...   1   1   1]\n",
            "/content/drive/MyDrive/BD/Minimias/MIAS_sn/81mias.png\n",
            "[0 0 0 ... 0 0 0]\n",
            "/content/drive/MyDrive/BD/Minimias/MIAS_sn/82mias.png\n",
            "[0 0 0 ... 0 0 0]\n",
            "/content/drive/MyDrive/BD/Minimias/MIAS_sn/83mias.png\n",
            "[0 0 0 ... 0 0 0]\n",
            "/content/drive/MyDrive/BD/Minimias/MIAS_sn/84mias.png\n",
            "[208 237 237 ...   7   8   7]\n",
            "/content/drive/MyDrive/BD/Minimias/MIAS_sn/85mias.png\n",
            "[195 195 191 ...   6   7 165]\n",
            "/content/drive/MyDrive/BD/Minimias/MIAS_sn/86mias.png\n",
            "[0 0 0 ... 0 0 0]\n",
            "/content/drive/MyDrive/BD/Minimias/MIAS_sn/87mias.png\n",
            "[209 211 208 ... 243 244 243]\n",
            "/content/drive/MyDrive/BD/Minimias/MIAS_sn/88mias.png\n",
            "[202 206 202 ...   0   0   0]\n",
            "/content/drive/MyDrive/BD/Minimias/MIAS_sn/89mias.png\n",
            "[0 0 0 ... 0 0 0]\n",
            "/content/drive/MyDrive/BD/Minimias/MIAS_sn/90mias.png\n",
            "[0 0 0 ... 0 0 0]\n",
            "/content/drive/MyDrive/BD/Minimias/MIAS_sn/91mias.png\n",
            "[0 0 0 ... 0 0 0]\n",
            "/content/drive/MyDrive/BD/Minimias/MIAS_sn/92mias.png\n",
            "[0 0 0 ... 0 0 0]\n",
            "/content/drive/MyDrive/BD/Minimias/MIAS_sn/93mias.png\n",
            "[191 218 220 ...   1   2   2]\n",
            "/content/drive/MyDrive/BD/Minimias/MIAS_sn/94mias.png\n",
            "[  0   0   0 ... 100   0   0]\n",
            "/content/drive/MyDrive/BD/Minimias/MIAS_sn/95mias.png\n",
            "[218 218 215 ...   8   8   9]\n",
            "/content/drive/MyDrive/BD/Minimias/MIAS_sn/96mias.png\n",
            "[0 0 0 ... 0 0 0]\n",
            "/content/drive/MyDrive/BD/Minimias/MIAS_sn/97mias.png\n",
            "[221 223 224 ...   0   0   0]\n",
            "/content/drive/MyDrive/BD/Minimias/MIAS_sn/98mias.png\n",
            "[0 0 0 ... 0 0 0]\n",
            "/content/drive/MyDrive/BD/Minimias/MIAS_sn/99mias.png\n",
            "[229 229 229 ...   5   4   4]\n",
            "/content/drive/MyDrive/BD/Minimias/MIAS_sn/100mias.png\n",
            "[200 211 211 ...   2   2   2]\n",
            "/content/drive/MyDrive/BD/Minimias/MIAS_sn/101mias.png\n",
            "[202 201 201 ...   3   3   3]\n",
            "/content/drive/MyDrive/BD/Minimias/MIAS_sn/102mias.png\n",
            "[0 0 0 ... 0 0 0]\n",
            "/content/drive/MyDrive/BD/Minimias/MIAS_sn/103mias.png\n",
            "[175 188 190 ...   2   1   1]\n",
            "/content/drive/MyDrive/BD/Minimias/MIAS_sn/104mias.png\n",
            "[218 214 209 ...   0   0   0]\n",
            "/content/drive/MyDrive/BD/Minimias/MIAS_sn/105mias.png\n",
            "[0 0 0 ... 0 0 0]\n",
            "/content/drive/MyDrive/BD/Minimias/MIAS_sn/106mias.png\n",
            "[0 0 0 ... 0 0 0]\n",
            "/content/drive/MyDrive/BD/Minimias/MIAS_sn/107mias.png\n",
            "[211 216 216 ...   2   2   2]\n",
            "/content/drive/MyDrive/BD/Minimias/MIAS_sn/108mias.png\n",
            "[237 237 237 ...   0   0   0]\n",
            "/content/drive/MyDrive/BD/Minimias/MIAS_sn/109mias.png\n",
            "[ 0  0 73 ...  7  0  0]\n",
            "/content/drive/MyDrive/BD/Minimias/MIAS_sn/110mias.png\n",
            "[218 228 228 ...   0   0   0]\n",
            "/content/drive/MyDrive/BD/Minimias/MIAS_sn/111mias.png\n",
            "[0 0 0 ... 0 0 0]\n",
            "/content/drive/MyDrive/BD/Minimias/MIAS_sn/112mias.png\n",
            "[0 0 0 ... 0 0 0]\n",
            "/content/drive/MyDrive/BD/Minimias/MIAS_sn/113mias.png\n",
            "[0 0 0 ... 0 0 0]\n",
            "/content/drive/MyDrive/BD/Minimias/MIAS_sn/114mias.png\n",
            "[199 199 200 ...   0   0   0]\n",
            "/content/drive/MyDrive/BD/Minimias/MIAS_sn/115mias.png\n",
            "[0 0 0 ... 0 0 0]\n",
            "/content/drive/MyDrive/BD/Minimias/MIAS_sn/116mias.png\n",
            "[146 150 149 ... 243 243 243]\n",
            "/content/drive/MyDrive/BD/Minimias/MIAS_sn/117mias.png\n",
            "[182 206 204 ...   0   0   0]\n",
            "/content/drive/MyDrive/BD/Minimias/MIAS_sn/118mias.png\n",
            "[0 0 0 ... 0 0 0]\n",
            "/content/drive/MyDrive/BD/Minimias/MIAS_sn/119mias.png\n",
            "[214 225 224 ...   0   0   0]\n",
            "/content/drive/MyDrive/BD/Minimias/MIAS_sn/120mias.png\n",
            "[ 0  0 52 ... 21  0  0]\n",
            "/content/drive/MyDrive/BD/Minimias/MIAS_sn/121mias.png\n",
            "[186 191 192 ...   0   0   0]\n",
            "/content/drive/MyDrive/BD/Minimias/MIAS_sn/122mias.png\n",
            "[ 0  0 73 ... 68  0  0]\n",
            "/content/drive/MyDrive/BD/Minimias/MIAS_sn/123mias.png\n",
            "[0 0 0 ... 0 0 0]\n",
            "/content/drive/MyDrive/BD/Minimias/MIAS_sn/124mias.png\n",
            "[0 0 0 ... 0 0 0]\n",
            "/content/drive/MyDrive/BD/Minimias/MIAS_sn/125mias.png\n",
            "[167 173 167 ...   8   9   7]\n",
            "/content/drive/MyDrive/BD/Minimias/MIAS_sn/126mias.png\n",
            "[0 0 0 ... 0 0 0]\n",
            "/content/drive/MyDrive/BD/Minimias/MIAS_sn/127mias.png\n",
            "[205 208 211 ...   1   0   1]\n",
            "/content/drive/MyDrive/BD/Minimias/MIAS_sn/128mias.png\n",
            "[0 0 0 ... 0 0 0]\n",
            "/content/drive/MyDrive/BD/Minimias/MIAS_sn/129mias.png\n",
            "[0 0 0 ... 0 0 0]\n",
            "/content/drive/MyDrive/BD/Minimias/MIAS_sn/130mias.png\n",
            "[0 0 0 ... 0 0 0]\n",
            "/content/drive/MyDrive/BD/Minimias/MIAS_sn/131mias.png\n",
            "[233 233 232 ...   7   7   7]\n",
            "/content/drive/MyDrive/BD/Minimias/MIAS_sn/132mias.png\n",
            "[0 0 0 ... 0 0 0]\n",
            "/content/drive/MyDrive/BD/Minimias/MIAS_sn/133mias.png\n",
            "[0 0 0 ... 0 0 0]\n",
            "/content/drive/MyDrive/BD/Minimias/MIAS_sn/134mias.png\n",
            "[228 229 228 ...   0   0   0]\n",
            "/content/drive/MyDrive/BD/Minimias/MIAS_sn/135mias.png\n",
            "[0 0 0 ... 0 0 0]\n",
            "/content/drive/MyDrive/BD/Minimias/MIAS_sn/136mias.png\n",
            "[180 185 183 ...   0   0   1]\n",
            "/content/drive/MyDrive/BD/Minimias/MIAS_sn/137mias.png\n",
            "[0 0 0 ... 0 0 0]\n",
            "/content/drive/MyDrive/BD/Minimias/MIAS_sn/138mias.png\n",
            "[0 0 0 ... 0 0 0]\n",
            "/content/drive/MyDrive/BD/Minimias/MIAS_sn/139mias.png\n",
            "[202 202 201 ...   6   5   5]\n",
            "/content/drive/MyDrive/BD/Minimias/MIAS_sn/140mias.png\n",
            "[181 207 206 ...   2   2   2]\n",
            "/content/drive/MyDrive/BD/Minimias/MIAS_sn/141mias.png\n",
            "[205 215 214 ...   0   0   0]\n",
            "/content/drive/MyDrive/BD/Minimias/MIAS_sn/142mias.png\n",
            "[0 0 0 ... 0 0 0]\n",
            "/content/drive/MyDrive/BD/Minimias/MIAS_sn/143mias.png\n",
            "[203 211 211 ...   0   0   0]\n",
            "/content/drive/MyDrive/BD/Minimias/MIAS_sn/144mias.png\n",
            "[0 0 0 ... 0 0 0]\n",
            "/content/drive/MyDrive/BD/Minimias/MIAS_sn/145mias.png\n",
            "[0 0 0 ... 0 0 0]\n",
            "/content/drive/MyDrive/BD/Minimias/MIAS_sn/146mias.png\n",
            "[212 209 208 ...   0   0   0]\n",
            "/content/drive/MyDrive/BD/Minimias/MIAS_sn/147mias.png\n",
            "[176 195 196 ...   9   9  10]\n",
            "/content/drive/MyDrive/BD/Minimias/MIAS_sn/148mias.png\n",
            "[0 0 0 ... 0 0 0]\n",
            "/content/drive/MyDrive/BD/Minimias/MIAS_sn/149mias.png\n",
            "[0 0 0 ... 0 0 0]\n",
            "/content/drive/MyDrive/BD/Minimias/MIAS_sn/150mias.png\n",
            "[0 0 0 ... 0 0 0]\n",
            "/content/drive/MyDrive/BD/Minimias/MIAS_sn/151mias.png\n",
            "[218 213 211 ...   0   0   1]\n",
            "/content/drive/MyDrive/BD/Minimias/MIAS_sn/152mias.png\n",
            "[179 177 174 ...  56  58  56]\n",
            "/content/drive/MyDrive/BD/Minimias/MIAS_sn/153mias.png\n",
            "[0 0 0 ... 0 0 0]\n",
            "/content/drive/MyDrive/BD/Minimias/MIAS_sn/154mias.png\n",
            "[206 219 221 ...   1   1   1]\n",
            "/content/drive/MyDrive/BD/Minimias/MIAS_sn/155mias.png\n",
            "[0 0 0 ... 0 0 0]\n",
            "/content/drive/MyDrive/BD/Minimias/MIAS_sn/156mias.png\n",
            "[182 198 197 ...   5   5   5]\n",
            "/content/drive/MyDrive/BD/Minimias/MIAS_sn/157mias.png\n",
            "[168 188 187 ...   7   7   6]\n",
            "/content/drive/MyDrive/BD/Minimias/MIAS_sn/158mias.png\n",
            "[205 208 208 ...   2   2   2]\n",
            "/content/drive/MyDrive/BD/Minimias/MIAS_sn/159mias.png\n",
            "[0 0 0 ... 0 0 0]\n",
            "/content/drive/MyDrive/BD/Minimias/MIAS_sn/160mias.png\n",
            "[184 205 205 ...   0   0   0]\n",
            "/content/drive/MyDrive/BD/Minimias/MIAS_sn/161mias.png\n",
            "[183 192 191 ...   5   7   6]\n",
            "/content/drive/MyDrive/BD/Minimias/MIAS_sn/162mias.png\n",
            "[0 0 0 ... 0 0 0]\n",
            "/content/drive/MyDrive/BD/Minimias/MIAS_sn/163mias.png\n",
            "[0 0 0 ... 0 0 0]\n",
            "/content/drive/MyDrive/BD/Minimias/MIAS_sn/164mias.png\n",
            "[220 219 217 ...   0   0   0]\n",
            "/content/drive/MyDrive/BD/Minimias/MIAS_sn/165mias.png\n",
            "[202 212 210 ...   0   0   0]\n",
            "/content/drive/MyDrive/BD/Minimias/MIAS_sn/166mias.png\n",
            "[175 201 201 ...   0   0   0]\n",
            "/content/drive/MyDrive/BD/Minimias/MIAS_sn/167mias.png\n",
            "[219 221 221 ...   0   0   0]\n",
            "/content/drive/MyDrive/BD/Minimias/MIAS_sn/168mias.png\n",
            "[0 0 0 ... 0 0 0]\n",
            "/content/drive/MyDrive/BD/Minimias/MIAS_sn/169mias.png\n",
            "[210 210 207 ...   1   2   2]\n",
            "/content/drive/MyDrive/BD/Minimias/MIAS_sn/170mias.png\n",
            "[209 206 206 ...   0   0   0]\n",
            "/content/drive/MyDrive/BD/Minimias/MIAS_sn/171mias.png\n",
            "[198 203 201 ...   3   3   6]\n",
            "/content/drive/MyDrive/BD/Minimias/MIAS_sn/172mias.png\n",
            "[204 216 216 ...   0   0   0]\n",
            "/content/drive/MyDrive/BD/Minimias/MIAS_sn/173mias.png\n",
            "[222 222 222 ...   0   0   0]\n",
            "/content/drive/MyDrive/BD/Minimias/MIAS_sn/174mias.png\n",
            "[217 216 217 ... 208 220 227]\n",
            "/content/drive/MyDrive/BD/Minimias/MIAS_sn/175mias.png\n",
            "[0 0 0 ... 0 0 0]\n",
            "/content/drive/MyDrive/BD/Minimias/MIAS_sn/176mias.png\n",
            "[243 243 243 ...  24  85 129]\n",
            "/content/drive/MyDrive/BD/Minimias/MIAS_sn/177mias.png\n",
            "[0 0 0 ... 0 0 0]\n",
            "/content/drive/MyDrive/BD/Minimias/MIAS_sn/178mias.png\n",
            "[0 0 0 ... 0 0 0]\n",
            "/content/drive/MyDrive/BD/Minimias/MIAS_sn/179mias.png\n",
            "[171 170 165 ...   0   0   0]\n",
            "/content/drive/MyDrive/BD/Minimias/MIAS_sn/180mias.png\n",
            "[0 0 0 ... 0 0 0]\n",
            "/content/drive/MyDrive/BD/Minimias/MIAS_sn/181mias.png\n",
            "[201 212 212 ...   0   0   0]\n",
            "/content/drive/MyDrive/BD/Minimias/MIAS_sn/182mias.png\n",
            "[0 0 0 ... 0 0 0]\n",
            "/content/drive/MyDrive/BD/Minimias/MIAS_sn/183mias.png\n",
            "[0 0 0 ... 0 0 0]\n",
            "/content/drive/MyDrive/BD/Minimias/MIAS_sn/184mias.png\n",
            "[203 202 200 ...   7  32   1]\n",
            "/content/drive/MyDrive/BD/Minimias/MIAS_sn/185mias.png\n",
            "[0 0 0 ... 0 0 0]\n",
            "/content/drive/MyDrive/BD/Minimias/MIAS_sn/186mias.png\n",
            "[0 0 0 ... 0 0 0]\n",
            "/content/drive/MyDrive/BD/Minimias/MIAS_sn/187mias.png\n",
            "[0 0 0 ... 0 0 0]\n",
            "/content/drive/MyDrive/BD/Minimias/MIAS_sn/188mias.png\n",
            "[0 0 0 ... 0 0 0]\n",
            "/content/drive/MyDrive/BD/Minimias/MIAS_sn/189mias.png\n",
            "[208 216 213 ...   5   5   5]\n",
            "/content/drive/MyDrive/BD/Minimias/MIAS_sn/190mias.png\n",
            "[112 114 119 ...   0   0   0]\n",
            "/content/drive/MyDrive/BD/Minimias/MIAS_sn/191mias.png\n",
            "[0 0 0 ... 0 0 0]\n",
            "/content/drive/MyDrive/BD/Minimias/MIAS_sn/192mias.png\n",
            "[0 0 0 ... 0 0 0]\n",
            "/content/drive/MyDrive/BD/Minimias/MIAS_sn/193mias.png\n",
            "[0 0 0 ... 0 0 0]\n",
            "/content/drive/MyDrive/BD/Minimias/MIAS_sn/194mias.png\n",
            "[0 0 0 ... 0 0 0]\n",
            "/content/drive/MyDrive/BD/Minimias/MIAS_sn/195mias.png\n",
            "[197 195 198 ...   0   0  74]\n",
            "/content/drive/MyDrive/BD/Minimias/MIAS_sn/196mias.png\n",
            "[223 223 224 ...   4   4   4]\n",
            "/content/drive/MyDrive/BD/Minimias/MIAS_sn/197mias.png\n",
            "[190 197 196 ...   0   0   0]\n",
            "/content/drive/MyDrive/BD/Minimias/MIAS_sn/198mias.png\n",
            "[193 202 202 ...   4   4   4]\n",
            "/content/drive/MyDrive/BD/Minimias/MIAS_sn/199mias.png\n",
            "[0 0 0 ... 0 0 0]\n",
            "/content/drive/MyDrive/BD/Minimias/MIAS_sn/200mias.png\n",
            "[212 222 222 ...   0   0   0]\n"
          ]
        }
      ]
    },
    {
      "cell_type": "code",
      "source": [
        "del y_label[0]\n",
        "print(len(y_label))\n",
        "read_file = pd.read_csv('/content/drive/MyDrive/BD/Minimias_completo.csv')\n",
        "read_file.shape"
      ],
      "metadata": {
        "colab": {
          "base_uri": "https://localhost:8080/"
        },
        "id": "cSddE8Fmd2tp",
        "outputId": "12b22293-b2d1-4851-f5a6-aaa04939adba"
      },
      "execution_count": 4,
      "outputs": [
        {
          "output_type": "stream",
          "name": "stdout",
          "text": [
            "308\n"
          ]
        },
        {
          "output_type": "execute_result",
          "data": {
            "text/plain": [
              "(308, 16000)"
            ]
          },
          "metadata": {},
          "execution_count": 4
        }
      ]
    },
    {
      "cell_type": "code",
      "source": [
        "from sklearn.model_selection import train_test_split\n",
        "\n",
        "X_train, X_test, y_train, y_test = train_test_split(read_file, y_label, test_size=0.33, random_state=1)\n",
        "print(X_train.shape, X_test.shape, len(y_train), len(y_test))"
      ],
      "metadata": {
        "colab": {
          "base_uri": "https://localhost:8080/"
        },
        "id": "xRdsfpDwd7FD",
        "outputId": "90b0bc99-aec2-42a7-91cc-a3c2a33d896a"
      },
      "execution_count": 5,
      "outputs": [
        {
          "output_type": "stream",
          "name": "stdout",
          "text": [
            "(206, 16000) (102, 16000) 206 102\n"
          ]
        }
      ]
    },
    {
      "cell_type": "code",
      "source": [
        "import matplotlib.pyplot as plt\n",
        "import numpy as np\n",
        "from sklearn.linear_model import LogisticRegression\n",
        "from sklearn.metrics import classification_report, confusion_matrix"
      ],
      "metadata": {
        "id": "onn8OqwSeSLg"
      },
      "execution_count": 6,
      "outputs": []
    },
    {
      "cell_type": "code",
      "source": [
        "model = LogisticRegression(solver='liblinear', random_state=0)"
      ],
      "metadata": {
        "id": "_T3Izf5LeWna"
      },
      "execution_count": 7,
      "outputs": []
    },
    {
      "cell_type": "code",
      "source": [
        "model.fit(X_train, y_train)"
      ],
      "metadata": {
        "colab": {
          "base_uri": "https://localhost:8080/"
        },
        "id": "493DrQPveXsZ",
        "outputId": "efadc682-cf5e-47dd-98da-50eb3ffafb31"
      },
      "execution_count": 8,
      "outputs": [
        {
          "output_type": "execute_result",
          "data": {
            "text/plain": [
              "LogisticRegression(random_state=0, solver='liblinear')"
            ]
          },
          "metadata": {},
          "execution_count": 8
        }
      ]
    },
    {
      "cell_type": "code",
      "source": [
        "test_prob = model.predict_proba(X_test)[:, 1]\n",
        "test_pred = model.predict(X_test)"
      ],
      "metadata": {
        "id": "p5z1Kf8tfG34"
      },
      "execution_count": 9,
      "outputs": []
    },
    {
      "cell_type": "code",
      "source": [
        "import pandas as pd\n",
        "import numpy as np\n",
        "\n",
        "from sklearn.preprocessing import StandardScaler\n",
        "from sklearn.model_selection import train_test_split\n",
        "from sklearn.linear_model import LogisticRegression\n",
        "from sklearn.metrics import log_loss, roc_auc_score, recall_score, precision_score, average_precision_score, f1_score, classification_report, accuracy_score, plot_roc_curve, plot_precision_recall_curve, plot_confusion_matrix\n",
        "\n",
        "print('Log loss = {:.5f}'.format(log_loss(y_test, test_prob)))\n",
        "print('AUC = {:.5f}'.format(roc_auc_score(y_test, test_prob)))\n",
        "print('Average Precision = {:.5f}'.format(average_precision_score(y_test, test_prob)))\n",
        "print('\\nUsing 0.5 as threshold:')\n",
        "print('Accuracy = {:.5f}'.format(accuracy_score(y_test, test_pred)))\n",
        "print('Precision = {:.5f}'.format(precision_score(y_test, test_pred)))\n",
        "print('Recall = {:.5f}'.format(recall_score(y_test, test_pred)))\n",
        "print('F1 score = {:.5f}'.format(f1_score(y_test, test_pred)))\n",
        "\n",
        "print('\\nClassification Report')\n",
        "print(classification_report(y_test, test_pred))"
      ],
      "metadata": {
        "colab": {
          "base_uri": "https://localhost:8080/"
        },
        "id": "3PKf0KMSfPjP",
        "outputId": "2fcca083-b8a5-47ff-8eec-ffa8de4c6be8"
      },
      "execution_count": 10,
      "outputs": [
        {
          "output_type": "stream",
          "name": "stdout",
          "text": [
            "Log loss = 2.59377\n",
            "AUC = 0.83667\n",
            "Average Precision = 0.70296\n",
            "\n",
            "Using 0.5 as threshold:\n",
            "Accuracy = 0.74510\n",
            "Precision = 0.60465\n",
            "Recall = 0.74286\n",
            "F1 score = 0.66667\n",
            "\n",
            "Classification Report\n",
            "              precision    recall  f1-score   support\n",
            "\n",
            "           0       0.85      0.75      0.79        67\n",
            "           1       0.60      0.74      0.67        35\n",
            "\n",
            "    accuracy                           0.75       102\n",
            "   macro avg       0.73      0.74      0.73       102\n",
            "weighted avg       0.76      0.75      0.75       102\n",
            "\n"
          ]
        }
      ]
    },
    {
      "cell_type": "code",
      "source": [
        " plot_roc_curve(model, X_test, y_test)\n"
      ],
      "metadata": {
        "colab": {
          "base_uri": "https://localhost:8080/",
          "height": 351
        },
        "id": "av2FRe3Kfpy4",
        "outputId": "048f1bef-bbd8-4424-bd67-23314fb7c5b8"
      },
      "execution_count": 25,
      "outputs": [
        {
          "output_type": "stream",
          "name": "stderr",
          "text": [
            "/usr/local/lib/python3.7/dist-packages/sklearn/utils/deprecation.py:87: FutureWarning: Function plot_roc_curve is deprecated; Function :func:`plot_roc_curve` is deprecated in 1.0 and will be removed in 1.2. Use one of the class methods: :meth:`sklearn.metric.RocCurveDisplay.from_predictions` or :meth:`sklearn.metric.RocCurveDisplay.from_estimator`.\n",
            "  warnings.warn(msg, category=FutureWarning)\n"
          ]
        },
        {
          "output_type": "execute_result",
          "data": {
            "text/plain": [
              "<sklearn.metrics._plot.roc_curve.RocCurveDisplay at 0x7f2768dbbd50>"
            ]
          },
          "metadata": {},
          "execution_count": 25
        },
        {
          "output_type": "display_data",
          "data": {
            "image/png": "[encoded data removed]",
            "text/plain": [
              "<Figure size 432x288 with 1 Axes>"
            ]
          },
          "metadata": {
            "needs_background": "light"
          }
        }
      ]
    },
    {
      "cell_type": "code",
      "source": [
        "\n",
        "plot_precision_recall_curve(model, X_test, y_test)"
      ],
      "metadata": {
        "id": "o5ONzlnSfsYs",
        "outputId": "bb41d9ef-c089-4fd2-c9ea-652e653cb39b",
        "colab": {
          "base_uri": "https://localhost:8080/",
          "height": 351
        }
      },
      "execution_count": 12,
      "outputs": [
        {
          "output_type": "stream",
          "name": "stderr",
          "text": [
            "/usr/local/lib/python3.7/dist-packages/sklearn/utils/deprecation.py:87: FutureWarning: Function plot_precision_recall_curve is deprecated; Function `plot_precision_recall_curve` is deprecated in 1.0 and will be removed in 1.2. Use one of the class methods: PrecisionRecallDisplay.from_predictions or PrecisionRecallDisplay.from_estimator.\n",
            "  warnings.warn(msg, category=FutureWarning)\n"
          ]
        },
        {
          "output_type": "execute_result",
          "data": {
            "text/plain": [
              "<sklearn.metrics._plot.precision_recall_curve.PrecisionRecallDisplay at 0x7f276a06e990>"
            ]
          },
          "metadata": {},
          "execution_count": 12
        },
        {
          "output_type": "display_data",
          "data": {
            "image/png": "[encoded data removed]",
            "text/plain": [
              "<Figure size 432x288 with 1 Axes>"
            ]
          },
          "metadata": {
            "needs_background": "light"
          }
        }
      ]
    },
    {
      "cell_type": "code",
      "source": [
        "print('Confusion Matrix')\n",
        "plot_confusion_matrix(model, X_test, y_test)"
      ],
      "metadata": {
        "colab": {
          "base_uri": "https://localhost:8080/",
          "height": 372
        },
        "id": "3O-2Xl3dfhHg",
        "outputId": "3ec83d23-98d5-4c83-8038-3e026ccabf71"
      },
      "execution_count": 28,
      "outputs": [
        {
          "output_type": "stream",
          "name": "stdout",
          "text": [
            "Confusion Matrix\n"
          ]
        },
        {
          "output_type": "stream",
          "name": "stderr",
          "text": [
            "/usr/local/lib/python3.7/dist-packages/sklearn/utils/deprecation.py:87: FutureWarning: Function plot_confusion_matrix is deprecated; Function `plot_confusion_matrix` is deprecated in 1.0 and will be removed in 1.2. Use one of the class methods: ConfusionMatrixDisplay.from_predictions or ConfusionMatrixDisplay.from_estimator.\n",
            "  warnings.warn(msg, category=FutureWarning)\n"
          ]
        },
        {
          "output_type": "execute_result",
          "data": {
            "text/plain": [
              "<sklearn.metrics._plot.confusion_matrix.ConfusionMatrixDisplay at 0x7f2768c39cd0>"
            ]
          },
          "metadata": {},
          "execution_count": 28
        },
        {
          "output_type": "display_data",
          "data": {
            "image/png": "[encoded data removed]",
            "text/plain": [
              "<Figure size 432x288 with 2 Axes>"
            ]
          },
          "metadata": {
            "needs_background": "light"
          }
        }
      ]
    },
    {
      "cell_type": "code",
      "source": [
        "from sklearn.model_selection import GridSearchCV\n",
        "parameters_lr = [{'penalty':['l1','l2'],'C': [0.001, 0.01, 0.1, 1, 10, 100, 1000]}]\n",
        "grid_search_lr = GridSearchCV(estimator = model,\n",
        "                           param_grid = parameters_lr,\n",
        "                           scoring = 'accuracy',\n",
        "                           cv = 10,\n",
        "                           n_jobs = -1)\n",
        "grid_search_lr.fit(X_train, y_train)\n",
        "best_accuracy_lr = grid_search_lr.best_score_\n",
        "best_paramaeter_lr = grid_search_lr.best_params_  \n",
        "print(\"Best Accuracy of LR: {:.2f} %\".format(best_accuracy_lr.mean()*100))\n",
        "print(\"Best Parameter of LR:\", best_paramaeter_lr)"
      ],
      "metadata": {
        "colab": {
          "base_uri": "https://localhost:8080/"
        },
        "id": "YROWEAwGVLDg",
        "outputId": "18b6c378-8df3-454f-d1c2-0e20e6fe732d"
      },
      "execution_count": 14,
      "outputs": [
        {
          "output_type": "stream",
          "name": "stdout",
          "text": [
            "Best Accuracy of LR: 83.05 %\n",
            "Best Parameter of LR: {'C': 1, 'penalty': 'l1'}\n"
          ]
        }
      ]
    }
  ]
}